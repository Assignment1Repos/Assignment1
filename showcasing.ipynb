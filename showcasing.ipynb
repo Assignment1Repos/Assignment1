{
  "nbformat": 4,
  "nbformat_minor": 0,
  "metadata": {
    "colab": {
      "provenance": [],
      "authorship_tag": "ABX9TyMY/ZFcouIwAdcEmvuufarV",
      "include_colab_link": true
    },
    "kernelspec": {
      "name": "python3",
      "display_name": "Python 3"
    },
    "language_info": {
      "name": "python"
    }
  },
  "cells": [
    {
      "cell_type": "markdown",
      "metadata": {
        "id": "view-in-github",
        "colab_type": "text"
      },
      "source": [
        "<a href=\"https://colab.research.google.com/github/Assignment1Repos/Assignment1/blob/main/showcasing.ipynb\" target=\"_parent\"><img src=\"https://colab.research.google.com/assets/colab-badge.svg\" alt=\"Open In Colab\"/></a>"
      ]
    },
    {
      "cell_type": "code",
      "execution_count": null,
      "metadata": {
        "id": "RigXzBDzHktN"
      },
      "outputs": [],
      "source": [
        "# install requirments\n",
        "import sys\n",
        "if 'google.colab' in sys.modules:\n",
        "    print('Running in Colab.')\n",
        "    !pip3 install transformers==4.15.0 timm==0.4.12 fairscale==0.4.4\n",
        "    !git clone https://github.com/salesforce/BLIP\n",
        "    %cd BLIP"
      ]
    },
    {
      "cell_type": "markdown",
      "source": [
        "**Image Loading:**"
      ],
      "metadata": {
        "id": "VoJKWjdxICfj"
      }
    },
    {
      "cell_type": "code",
      "source": [
        "from PIL import Image\n",
        "import requests\n",
        "import torch\n",
        "from torchvision import transforms\n",
        "from torchvision.transforms.functional import InterpolationMode\n",
        "\n",
        "device = torch.device('cuda' if torch.cuda.is_available() else 'cpu')\n",
        "\n",
        "def load_demo_image(image_size,device):\n",
        "    img_url = 'https://i.ytimg.com/vi/hTawLr62caw/maxresdefault.jpg' \n",
        "    raw_image = Image.open(requests.get(img_url, stream=True).raw).convert('RGB')   \n",
        "\n",
        "    w,h = raw_image.size\n",
        "    display(raw_image.resize((w//5,h//5)))\n",
        "    \n",
        "    transform = transforms.Compose([\n",
        "        transforms.Resize((image_size,image_size),interpolation=InterpolationMode.BICUBIC),\n",
        "        transforms.ToTensor(),\n",
        "        transforms.Normalize((0.48145466, 0.4578275, 0.40821073), (0.26862954, 0.26130258, 0.27577711))\n",
        "        ]) \n",
        "    image = transform(raw_image).unsqueeze(0).to(device)   \n",
        "    return image"
      ],
      "metadata": {
        "id": "Ds9-WoDVHvrM"
      },
      "execution_count": null,
      "outputs": []
    },
    {
      "cell_type": "markdown",
      "source": [
        "**Visual Question Answering:**"
      ],
      "metadata": {
        "id": "d4kpXM_5IK-7"
      }
    },
    {
      "cell_type": "code",
      "source": [
        "from models.blip_vqa import blip_vqa\n",
        "\n",
        "image_size = 480\n",
        "image = load_demo_image(image_size=image_size, device=device)     \n",
        "\n",
        "model_url = 'https://storage.googleapis.com/sfr-vision-language-research/BLIP/models/model_base_vqa_capfilt_large.pth'\n",
        "    \n",
        "model = blip_vqa(pretrained=model_url, image_size=image_size, vit='base')\n",
        "model.eval()\n",
        "model = model.to(device)\n",
        "\n",
        "question = 'where is the woman sitting?'\n",
        "\n",
        "with torch.no_grad():\n",
        "    answer = model(image, question, train=False, inference='generate') \n",
        "    print('answer: '+answer[0])"
      ],
      "metadata": {
        "id": "VV0PvDoIH2g5"
      },
      "execution_count": null,
      "outputs": []
    }
  ]
}